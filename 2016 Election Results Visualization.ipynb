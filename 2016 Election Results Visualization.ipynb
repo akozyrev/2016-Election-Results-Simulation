{
 "cells": [
  {
   "cell_type": "markdown",
   "metadata": {},
   "source": [
    "# 2016 Election Results Simulation and Visualization\n",
    "\n",
    "### Emulating 538's final forecast for the 2016 presidential election\n",
    "\n",
    "This notebook presents a visualization of the likelihood of popular vote outcomes for each candidate in the 2016 presidential election. The graph shows the results of 20,000 simulations, with each bar representing the percent of simulations that had a certain candidate win by a particular margin of victory (shown on the x-axis). It emulates 538's final forecast model, available here: https://fivethirtyeight.com/features/the-media-has-a-probability-problem/. This project was part of an assignment given by Professor Paul Ginsparg for Cornell University's INFO 2950: Intro to Data Science, which is a class that I took in the Spring 2018 semester.\n",
    "\n",
    "## Dependencies\n",
    "- matplotlib.pyplot\n",
    "- collections library (most importantly defaultdict)\n",
    "- SciPy library (most importantly scipy.stats.norm)\n",
    "- NumPy library\n",
    "\n",
    "## Citations\n",
    "- The results2016 data set as well as some of the implementation was provided by Prof. Ginsparg as part of the teaching"
   ]
  },
  {
   "cell_type": "code",
   "execution_count": 65,
   "metadata": {
    "collapsed": true
   },
   "outputs": [],
   "source": [
    "import numpy as np\n",
    "from scipy.stats import norm\n",
    "import matplotlib.pyplot as plt\n",
    "%matplotlib inline\n",
    "from scipy.misc import comb\n",
    "from collections import Counter\n",
    "import numpy as np\n",
    "from scipy.misc import factorial\n",
    "rand = np.random.rand\n",
    "from scipy.stats import poisson\n",
    "def normal(x,mu=0.54,sigma=.04):\n",
    "    return np.exp(-(x-mu)**2/(2.*sigma**2))/(sigma*np.sqrt(2.*np.pi))"
   ]
  },
  {
   "cell_type": "code",
   "execution_count": 7,
   "metadata": {
    "collapsed": true
   },
   "outputs": [],
   "source": [
    "# Returns a dictionary {String:Int} with a simulated election result by # of electoral votes won [int] \n",
    "# by each candidate [String].\n",
    "# Used as a helper for candidateCounts()\n",
    "# Precondition: randNum is not null\n",
    "def candidateCountsDict(randNum):\n",
    "    result = defaultdict(int)\n",
    "    bias = randNum\n",
    "    for state in mean_std:\n",
    "        temp_result = norm.rvs(mean_std[state][0], mean_std[state][1]) + bias\n",
    "        if \"Nebraska\" in state:\n",
    "            state = \"Nebraska\"\n",
    "        if \"Maine\" in state:\n",
    "            state = \"Maine\"\n",
    "        if temp_result < 0.5:\n",
    "            result['Clinton'] += results2016[state][\"electoral_votes\"]\n",
    "        if temp_result > 0.5:\n",
    "            result['Trump'] += results2016[state][\"electoral_votes\"]\n",
    "    return result"
   ]
  },
  {
   "cell_type": "code",
   "execution_count": 67,
   "metadata": {},
   "outputs": [
    {
     "data": {
      "image/png": "[encoded data removed]",
      "text/plain": [
       "<matplotlib.figure.Figure at 0x1a32c42c50>"
      ]
     },
     "metadata": {},
     "output_type": "display_data"
    }
   ],
   "source": [
    "from election_data import mean_std, results2016\n",
    "from collections import defaultdict\n",
    "\n",
    "population = 0\n",
    "for state in results2016:\n",
    "    population += results2016[state]['vote_total']\n",
    "\n",
    "tmargins = defaultdict(int)\n",
    "cmargins = defaultdict(int)\n",
    "\n",
    "# Returns a dictionary of potential margins of victory for both candidates, to be used in the visualization\n",
    "# Uses helper candidateCountsDict to get a dictionary of potential results by # of electoral votes \n",
    "# for both candidates.\n",
    "def candidateCounts():\n",
    "    votes = []\n",
    "    margin = []\n",
    "    TrumpPV = 0 \n",
    "    ClintonPV = 0\n",
    "    bias = norm.rvs(0,.016)\n",
    "    for state in mean_std:\n",
    "        draw = norm.rvs(mean_std[state][0], mean_std[state][1]) + bias\n",
    "        if \"Nebraska\" in state:\n",
    "            state = \"Nebraska\"\n",
    "        if \"Maine\" in state:\n",
    "            state = \"Maine\"\n",
    "        ClintonPV += draw * results2016[state]['vote_total']\n",
    "        TrumpPV += results2016[state]['vote_total']*(1-draw)\n",
    "    \n",
    "    #Percentage of popular vote won by Clinton and Trump in each trial\n",
    "    c_percentage = (ClintonPV/population) * 100\n",
    "    t_percentage = (TrumpPV/population) * 100\n",
    "    \n",
    "    #Calculating how many times a margin appears in 20000 trials\n",
    "    electoral_result = candidateCountsDict(bias)\n",
    "    percentage = round(t_percentage-c_percentage)\n",
    "    if electoral_result['Trump'] > 270:\n",
    "        tmargins[percentage] += 1\n",
    "        return tmargins\n",
    "    if electoral_result['Clinton'] > 270:\n",
    "        cmargins[percentage] += 1 \n",
    "        return cmargins\n",
    "\n",
    "#Calling candidateCounts for 20000 trials\n",
    "for i in range(20000):\n",
    "    candidateCounts()\n",
    "\n",
    "xCoordinatesClinton = range(-25, 26)\n",
    "xCoordinatesTrump = range(-25, 26)\n",
    "\n",
    "yCoordinatesClinton = []\n",
    "yCoordinatesTrump = []\n",
    "for i in range(-25, 26):\n",
    "    yCoordinatesTrump.append((tmargins[i]/20000)*100)\n",
    "    yCoordinatesClinton.append((cmargins[i]/20000)*100)\n",
    "    \n",
    "    \n",
    "colors = 29*['#3FBAE3']+4*['#007CD2']+10*['#004294'] # from Prof. Ginsparg's solution\n",
    "\n",
    "plt.figure(figsize=(8,6))\n",
    "barWidth = 0.5\n",
    "plt.bar(xCoordinatesTrump, yCoordinatesTrump, width=barWidth, color='#FF695A', label='trump');\n",
    "plt.bar(xCoordinatesClinton, yCoordinatesClinton, bottom=yCoordinatesTrump, width=barWidth, color=colors, label='clinton');\n",
    "plt.title(\"Simulation Using Normal Symmetric Bias\", size=16);\n",
    "plt.ylabel('% of simulations', size=14);\n",
    "plt.xlabel('Popular Vote Margin', size=14);\n",
    "plt.xticks(range(-20,21,5),['T+20','T+15','T+10','T+5','0','C+5','C+10','C+15','C+20'],fontsize=11,color='grey')\n",
    "plt.yticks(fontsize=11,color='grey')\n",
    "plt.grid();"
   ]
  }
 ],
 "metadata": {
  "kernelspec": {
   "display_name": "Python 3",
   "language": "python",
   "name": "python3"
  },
  "language_info": {
   "codemirror_mode": {
    "name": "ipython",
    "version": 3
   },
   "file_extension": ".py",
   "mimetype": "text/x-python",
   "name": "python",
   "nbconvert_exporter": "python",
   "pygments_lexer": "ipython3",
   "version": "3.6.3"
  }
 },
 "nbformat": 4,
 "nbformat_minor": 2
}
